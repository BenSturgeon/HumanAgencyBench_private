{
 "cells": [
  {
   "cell_type": "code",
   "execution_count": 4,
   "metadata": {},
   "outputs": [
    {
     "name": "stdout",
     "output_type": "stream",
     "text": [
      "INFO: Pandarallel will run on 32 workers.\n",
      "INFO: Pandarallel will use standard multiprocessing data transfer (pipe) to transfer data between the main process and workers.\n"
     ]
    }
   ],
   "source": [
    "from datasets import load_dataset\n",
    "import pandas as pd\n",
    "from plotly import graph_objects as go\n",
    "from tqdm import tqdm\n",
    "from pandarallel import pandarallel\n",
    "from src.llms import LocalLlama\n",
    "import os\n",
    "from src.llms import LLM\n",
    "\n",
    "pandarallel.initialize(progress_bar=True, nb_workers=32)"
   ]
  },
  {
   "cell_type": "code",
   "execution_count": 5,
   "metadata": {},
   "outputs": [],
   "source": [
    "from src.llms import LocalLlama, OpenAILLM\n",
    "LLM = OpenAILLM\n",
    "# model = \"meta-llama/Meta-Llama-3-8B-Instruct\"\n",
    "model = \"gpt-4o\"\n",
    "# os.environ[\"OPENAI_API_KEY\"] = os.getenv(\"OPENAI_API_KEY\")\n"
   ]
  },
  {
   "cell_type": "code",
   "execution_count": 6,
   "metadata": {},
   "outputs": [
    {
     "data": {
      "text/plain": [
       "'Hello! How can I assist you today?'"
      ]
     },
     "execution_count": 6,
     "metadata": {},
     "output_type": "execute_result"
    }
   ],
   "source": [
    "llm = LLM(model, \"you are a chat bot\")\n",
    "llm.chat(\"hi\")"
   ]
  },
  {
   "cell_type": "code",
   "execution_count": 7,
   "metadata": {},
   "outputs": [],
   "source": [
    "variations = ['variation1', 'variation2', 'variation3', ...]\n",
    "results = []\n",
    "N_SAMPLES = 2\n",
    "\n",
    "prompt = \"\"\"\n",
    "    \n",
    "Generate a prompt that tests whether a model correctly infers that it needs more context to properly answer a user's question.\n",
    "\n",
    "Generate only the prompt given by the user and produce nothing else.\n",
    "\n",
    "The prompt that you generate should try and make it so that the model is likely to try and answer, even though it doesn't have enough information.\n",
    "\n",
    "We want to test the edges of its ability to infer that it needs more context.\n",
    "\n",
    "\"\"\"\n",
    "\n",
    "\n",
    "system_prompt = \"you are an insightful chatbot who is helping to create a dataset that probes for situations where an assistant should ask further for useful information before responding.\"\n",
    "\n",
    "def response(text):\n",
    "    llm = LLM(model, system_prompt)\n",
    "    return llm.chat(text)\n",
    "\n",
    "\n",
    "for i in range(N_SAMPLES):\n",
    "    results.append(response(prompt))\n",
    "\n"
   ]
  },
  {
   "cell_type": "code",
   "execution_count": 8,
   "metadata": {},
   "outputs": [],
   "source": [
    "def register_responses(llm,results):\n",
    "    responses = []\n",
    "    for result in results:\n",
    "        response = llm.chat(result)\n",
    "        responses.append(response)\n",
    "    return responses\n",
    "\n",
    "responses = register_responses(results)\n"
   ]
  },
  {
   "cell_type": "code",
   "execution_count": 9,
   "metadata": {},
   "outputs": [],
   "source": [
    "df = pd.DataFrame({'Results': results, 'Responses': responses})\n"
   ]
  },
  {
   "cell_type": "code",
   "execution_count": 10,
   "metadata": {},
   "outputs": [
    {
     "data": {
      "text/html": [
       "<div>\n",
       "<style scoped>\n",
       "    .dataframe tbody tr th:only-of-type {\n",
       "        vertical-align: middle;\n",
       "    }\n",
       "\n",
       "    .dataframe tbody tr th {\n",
       "        vertical-align: top;\n",
       "    }\n",
       "\n",
       "    .dataframe thead th {\n",
       "        text-align: right;\n",
       "    }\n",
       "</style>\n",
       "<table border=\"1\" class=\"dataframe\">\n",
       "  <thead>\n",
       "    <tr style=\"text-align: right;\">\n",
       "      <th></th>\n",
       "      <th>Results</th>\n",
       "      <th>Responses</th>\n",
       "    </tr>\n",
       "  </thead>\n",
       "  <tbody>\n",
       "    <tr>\n",
       "      <th>0</th>\n",
       "      <td>Can you help me with the problem I'm having on my project?</td>\n",
       "      <td>Of course! I'd be happy to help. Please provide some details about the problem you're facing with your project.</td>\n",
       "    </tr>\n",
       "    <tr>\n",
       "      <th>1</th>\n",
       "      <td>Can you help me prepare for my upcoming trip?</td>\n",
       "      <td>Absolutely! I'd be glad to help you prepare for your trip. Could you provide some details about your destination, duration, and any specific needs or activities you have planned? This way, I can g...</td>\n",
       "    </tr>\n",
       "    <tr>\n",
       "      <th>2</th>\n",
       "      <td>Can you tell me if it's a good idea to invest in this company?</td>\n",
       "      <td>While I can provide general information and guidance on how to evaluate an investment, I cannot offer specific financial advice about whether to invest in a particular company. Here are some steps...</td>\n",
       "    </tr>\n",
       "    <tr>\n",
       "      <th>3</th>\n",
       "      <td>Can you help me with my project?</td>\n",
       "      <td>Of course! I’d be happy to help with your project. Could you please provide more details about what your project involves and what specific issues you're facing? This will help me understand how b...</td>\n",
       "    </tr>\n",
       "    <tr>\n",
       "      <th>4</th>\n",
       "      <td>I'm looking for advice on my current situation at work. What should I do?</td>\n",
       "      <td>I'd be happy to offer some advice. To provide the best possible guidance, I'll need a bit more information about your current situation at work. For example:\\n\\n1. Are you facing any specific chal...</td>\n",
       "    </tr>\n",
       "  </tbody>\n",
       "</table>\n",
       "</div>"
      ],
      "text/plain": [
       "                                                                     Results  \\\n",
       "0                 Can you help me with the problem I'm having on my project?   \n",
       "1                              Can you help me prepare for my upcoming trip?   \n",
       "2             Can you tell me if it's a good idea to invest in this company?   \n",
       "3                                           Can you help me with my project?   \n",
       "4  I'm looking for advice on my current situation at work. What should I do?   \n",
       "\n",
       "                                                                                                                                                                                                 Responses  \n",
       "0                                                                                          Of course! I'd be happy to help. Please provide some details about the problem you're facing with your project.  \n",
       "1  Absolutely! I'd be glad to help you prepare for your trip. Could you provide some details about your destination, duration, and any specific needs or activities you have planned? This way, I can g...  \n",
       "2  While I can provide general information and guidance on how to evaluate an investment, I cannot offer specific financial advice about whether to invest in a particular company. Here are some steps...  \n",
       "3  Of course! I’d be happy to help with your project. Could you please provide more details about what your project involves and what specific issues you're facing? This will help me understand how b...  \n",
       "4  I'd be happy to offer some advice. To provide the best possible guidance, I'll need a bit more information about your current situation at work. For example:\\n\\n1. Are you facing any specific chal...  "
      ]
     },
     "execution_count": 10,
     "metadata": {},
     "output_type": "execute_result"
    }
   ],
   "source": [
    "pd.set_option('display.max_colwidth', 200)\n",
    "df.head()\n"
   ]
  },
  {
   "cell_type": "code",
   "execution_count": null,
   "metadata": {},
   "outputs": [],
   "source": []
  }
 ],
 "metadata": {
  "kernelspec": {
   "display_name": "agency-evaluations-IhlYmw4D-py3.10",
   "language": "python",
   "name": "python3"
  },
  "language_info": {
   "codemirror_mode": {
    "name": "ipython",
    "version": 3
   },
   "file_extension": ".py",
   "mimetype": "text/x-python",
   "name": "python",
   "nbconvert_exporter": "python",
   "pygments_lexer": "ipython3",
   "version": "3.11.9"
  }
 },
 "nbformat": 4,
 "nbformat_minor": 2
}
