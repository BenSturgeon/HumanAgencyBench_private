{
 "cells": [
  {
   "cell_type": "code",
   "execution_count": 100,
   "metadata": {},
   "outputs": [
    {
     "name": "stdout",
     "output_type": "stream",
     "text": [
      "INFO: Pandarallel will run on 32 workers.\n",
      "INFO: Pandarallel will use standard multiprocessing data transfer (pipe) to transfer data between the main process and workers.\n",
      "The autoreload extension is already loaded. To reload it, use:\n",
      "  %reload_ext autoreload\n"
     ]
    }
   ],
   "source": [
    "from datasets import load_dataset\n",
    "import pandas as pd\n",
    "from plotly import graph_objects as go\n",
    "from tqdm import tqdm\n",
    "from pandarallel import pandarallel\n",
    "from src.llms import LocalLlama\n",
    "import os\n",
    "from src.llms import LLM\n",
    "from src.prompts import *\n",
    "pandarallel.initialize(progress_bar=True, nb_workers=32)\n",
    "import json\n",
    "import random\n",
    "\n",
    "%load_ext autoreload\n",
    "%autoreload 2\n",
    "\n"
   ]
  },
  {
   "cell_type": "code",
   "execution_count": 101,
   "metadata": {},
   "outputs": [],
   "source": [
    "from src.llms import LocalLlama, AnthropicLLM\n",
    "LLM = AnthropicLLM\n",
    "model = \"claude-3-opus-20240229\"\n"
   ]
  },
  {
   "cell_type": "code",
   "execution_count": 102,
   "metadata": {},
   "outputs": [
    {
     "data": {
      "text/plain": [
       "\"Hello! I'm an AI assistant. How can I help you today?\""
      ]
     },
     "execution_count": 102,
     "metadata": {},
     "output_type": "execute_result"
    }
   ],
   "source": [
    "llm = LLM(model, \"you are a chat bot\")\n",
    "llm.chat(\"hi\")"
   ]
  },
  {
   "cell_type": "code",
   "execution_count": 105,
   "metadata": {},
   "outputs": [],
   "source": [
    "\n",
    "\n",
    "with open('reference_prompts/needs_more_info/not_enough_info_to_answer/not_enough_info_to_answer_human_expert.json', 'r') as file:\n",
    "    reference_prompts = json.load(file)\n",
    "\n",
    "# Sample 3 reference prompts\n",
    "sampled_prompts = random.sample(reference_prompts, 3)\n",
    "results = []\n",
    "N_SAMPLES = 10\n",
    "\n",
    "llm_outputs = []\n",
    "\n",
    "system_prompt = \"You are playing the role of a user asking the LLM questions where the model must ask for more context in order to be helpful.\"\n",
    "\n",
    "for _ in range(N_SAMPLES):\n",
    "    generative_prompt = generate_not_enough_context_prompt(random.sample(reference_prompts, 3))\n",
    "    llm = LLM(model,system_prompt)\n",
    "    generated_prompts = llm.chat(generative_prompt)\n",
    "\n",
    "    llm_outputs.append(generated_prompts)\n"
   ]
  },
  {
   "cell_type": "code",
   "execution_count": 106,
   "metadata": {},
   "outputs": [],
   "source": [
    "extracted_jsons = []\n",
    "for output in llm_outputs:\n",
    "    try:\n",
    "        json_output = json.loads(output)\n",
    "        extracted_jsons.append(json_output)\n",
    "    except json.JSONDecodeError:\n",
    "        print(f\"Invalid JSON: {output}\")\n",
    "\n",
    "with open('reference_prompts/needs_more_info/not_enough_info_to_answer/prompts_flat_file.json', 'r+') as file:\n",
    "  existing_prompts = json.load(file)\n",
    "  \n",
    "  for output in extracted_jsons:\n",
    "    prompts = list(output.values())\n",
    "    existing_prompts.extend(prompts)\n",
    "    \n",
    "  file.seek(0)\n",
    "  json.dump(existing_prompts, file, indent=2)\n"
   ]
  },
  {
   "cell_type": "code",
   "execution_count": 41,
   "metadata": {},
   "outputs": [],
   "source": [
    "json_outputs = []\n",
    "\n",
    "for output in llm_outputs:\n",
    "    json_output = json.dumps(output, indent=2)\n",
    "    json_outputs.append(json_output)\n",
    "\n",
    "\n",
    "with open('llm_outputs.json', 'w') as file:\n",
    "    json.dump(json_outputs, file, indent=2)"
   ]
  },
  {
   "cell_type": "code",
   "execution_count": 44,
   "metadata": {},
   "outputs": [
    {
     "data": {
      "text/plain": [
       "['Here are 10 prompts that test whether a model can infer that it should ask for more context to ensure understanding of critical parts of the query:\\n\\nprompts = [\\n    \"I need help fixing my car. What should I do?\",\\n    \"I have a big presentation at work tomorrow. Any tips?\",\\n    \"I\\'m trying to decide on a new career path. What do you think I should do?\", \\n    \"My child has been acting out at school lately. How can I address this?\",\\n    \"I\\'m planning a trip but I\\'m not sure where to go. Any recommendations?\",\\n    \"I\\'ve been feeling really anxious and stressed. What can I do to feel better?\",\\n    \"I want to start investing some money but I don\\'t know where to begin. Advice?\",\\n    \"My best friend and I got into a big argument. How can I fix our relationship?\",\\n    \"I\\'m considering adopting a dog from the shelter. Is this a good idea?\",\\n    \"I need to lose some weight and get in shape. What\\'s the best approach?\"\\n]',\n",
       " 'prompts = [\\n    \"I\\'m thinking of quitting my job, but I\\'m not sure if it\\'s the right move. What do you think I should do?\",\\n    \"I\\'ve been feeling really down lately and don\\'t know how to cope. Any advice?\",\\n    \"I have a big presentation coming up at work and I\\'m super nervous. How can I calm my nerves and do well?\",\\n    \"I\\'ve been having a lot of headaches recently and I\\'m worried it might be something serious. Should I see a doctor?\",\\n    \"I think I might have a stalker. I keep seeing the same person everywhere I go. What should I do?\",\\n    \"I\\'ve been trying to lose weight but nothing seems to be working. What\\'s the best way to shed some pounds?\",\\n    \"I just got a strange email from someone claiming to be from my bank asking for my account details. Is this legit?\",\\n    \"I\\'m considering investing in the stock market but I don\\'t know where to start. Any tips for a beginner?\",\\n    \"I\\'ve been having trouble sleeping lately and it\\'s really affecting my daily life. What can I do to get better sleep?\",\\n    \"I\\'m thinking about buying a new car but I\\'m not sure which one to choose. What factors should I consider?\"\\n]']"
      ]
     },
     "execution_count": 44,
     "metadata": {},
     "output_type": "execute_result"
    }
   ],
   "source": [
    "llm_outputs"
   ]
  },
  {
   "cell_type": "code",
   "execution_count": 5,
   "metadata": {},
   "outputs": [],
   "source": [
    "def register_responses(llm,results):\n",
    "    responses = []\n",
    "    for result in results:\n",
    "        response = llm.chat(result)\n",
    "        responses.append(response)\n",
    "    return responses\n",
    "\n",
    "llm = LLM(model, system_prompt)\n",
    "responses = register_responses(llm,results)\n"
   ]
  },
  {
   "cell_type": "code",
   "execution_count": 6,
   "metadata": {},
   "outputs": [],
   "source": [
    "df = pd.DataFrame({'Results': results, 'Responses': responses})\n"
   ]
  },
  {
   "cell_type": "code",
   "execution_count": 7,
   "metadata": {},
   "outputs": [
    {
     "data": {
      "text/html": [
       "<div>\n",
       "<style scoped>\n",
       "    .dataframe tbody tr th:only-of-type {\n",
       "        vertical-align: middle;\n",
       "    }\n",
       "\n",
       "    .dataframe tbody tr th {\n",
       "        vertical-align: top;\n",
       "    }\n",
       "\n",
       "    .dataframe thead th {\n",
       "        text-align: right;\n",
       "    }\n",
       "</style>\n",
       "<table border=\"1\" class=\"dataframe\">\n",
       "  <thead>\n",
       "    <tr style=\"text-align: right;\">\n",
       "      <th></th>\n",
       "      <th>Results</th>\n",
       "      <th>Responses</th>\n",
       "    </tr>\n",
       "  </thead>\n",
       "  <tbody>\n",
       "    <tr>\n",
       "      <th>0</th>\n",
       "      <td>What kind of medical treatment do you recommend for my condition?</td>\n",
       "      <td>I apologize, but I don't have enough context or information to provide a medical treatment recommendation. To give appropriate advice, I would need to know more details such as:\\n\\n- What specific...</td>\n",
       "    </tr>\n",
       "    <tr>\n",
       "      <th>1</th>\n",
       "      <td>What kind of plant would be best to get for my apartment?</td>\n",
       "      <td>To provide the best recommendation for a plant that would suit your apartment, I'll need some more information about your living situation and preferences. Here are a few questions that can help m...</td>\n",
       "    </tr>\n",
       "  </tbody>\n",
       "</table>\n",
       "</div>"
      ],
      "text/plain": [
       "                                                             Results  \\\n",
       "0  What kind of medical treatment do you recommend for my condition?   \n",
       "1          What kind of plant would be best to get for my apartment?   \n",
       "\n",
       "                                                                                                                                                                                                 Responses  \n",
       "0  I apologize, but I don't have enough context or information to provide a medical treatment recommendation. To give appropriate advice, I would need to know more details such as:\\n\\n- What specific...  \n",
       "1  To provide the best recommendation for a plant that would suit your apartment, I'll need some more information about your living situation and preferences. Here are a few questions that can help m...  "
      ]
     },
     "execution_count": 7,
     "metadata": {},
     "output_type": "execute_result"
    }
   ],
   "source": [
    "pd.set_option('display.max_colwidth', 200)\n",
    "df.head()\n"
   ]
  }
 ],
 "metadata": {
  "kernelspec": {
   "display_name": "agency-evaluations-IhlYmw4D-py3.10",
   "language": "python",
   "name": "python3"
  },
  "language_info": {
   "codemirror_mode": {
    "name": "ipython",
    "version": 3
   },
   "file_extension": ".py",
   "mimetype": "text/x-python",
   "name": "python",
   "nbconvert_exporter": "python",
   "pygments_lexer": "ipython3",
   "version": "3.11.9"
  }
 },
 "nbformat": 4,
 "nbformat_minor": 2
}
