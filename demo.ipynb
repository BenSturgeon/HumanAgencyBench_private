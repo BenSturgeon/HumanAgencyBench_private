{
 "cells": [
  {
   "cell_type": "code",
   "execution_count": null,
   "metadata": {},
   "outputs": [],
   "source": [
    "# generation \n",
    "from typing import List\n",
    "from src.generate import generate\n",
    "from src.prompts import some_prompt\n",
    "import json\n",
    "\n",
    "responses: List[str] = generate(some_prompt, num_samples = 5000)\n",
    "responses = [json.loads(responce) for responce in responses]\n",
    "prompts, targets = zip(*responses)"
   ]
  },
  {
   "cell_type": "code",
   "execution_count": null,
   "metadata": {},
   "outputs": [],
   "source": [
    "# QA \n",
    "from src.qa import qa\n",
    "from src.prompts import some_qa_prompt\n",
    "\n",
    "SOME_THRESHOLD = 0.5\n",
    "\n",
    "prompts, scores = qa(some_qa_prompt)\n",
    "prompts = [prompts[i] for i in range(len(prompts)) if scores[i] > SOME_THRESHOLD]"
   ]
  },
  {
   "cell_type": "code",
   "execution_count": null,
   "metadata": {},
   "outputs": [],
   "source": [
    "# Diversity\n",
    "import numpy as np\n",
    "from src.diversity import get_embeddings\n",
    "from src.diversity import kmeans_diversity\n",
    "\n",
    "embeddings: np.array = get_embeddings(prompts)\n",
    "\n",
    "diverse_prompts: List[str] = kmeans_diversity(embeddings, k = 500)"
   ]
  },
  {
   "cell_type": "code",
   "execution_count": null,
   "metadata": {},
   "outputs": [],
   "source": [
    "# Get response\n",
    "from src.llms import OpenAI\n",
    "\n",
    "MODEL = \"gpt-3.5-turbo\"\n",
    "\n",
    "llm = OpenAI(MODEL, sytem_prompt = \"You at a chat bot\")\n",
    "responses = llm.parrallel_chat(diverse_prompts)"
   ]
  },
  {
   "cell_type": "code",
   "execution_count": null,
   "metadata": {},
   "outputs": [],
   "source": [
    "# code eval.\n",
    "\n"
   ]
  },
  {
   "cell_type": "code",
   "execution_count": null,
   "metadata": {},
   "outputs": [],
   "source": [
    "# Model based eval\n",
    "\n",
    "from src.llms import OpenAI\n",
    "from src.prompts import eval_prompt\n",
    "\n",
    "MODEL = \"gpt-3.5-turbo\"\n",
    "\n",
    "evaluation_prompts = [\n",
    "    eval_prompt(prompt, response) for prompt, response in zip(diverse_prompts, responses)\n",
    "]\n",
    "\n",
    "llm = OpenAI(MODEL, sytem_prompt = \"You at a chat bot\")\n",
    "scores = llm.parrallel_chat(evaluation_prompts)\n",
    "\n",
    "scores = [float(score) for score in scores]  # TODO, what if the model outputs are not float?"
   ]
  },
  {
   "cell_type": "code",
   "execution_count": null,
   "metadata": {},
   "outputs": [],
   "source": [
    "# Plotting ?"
   ]
  }
 ],
 "metadata": {
  "language_info": {
   "name": "python"
  }
 },
 "nbformat": 4,
 "nbformat_minor": 2
}
