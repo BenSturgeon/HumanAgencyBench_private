{
 "cells": [
  {
   "cell_type": "code",
   "execution_count": null,
   "metadata": {},
   "outputs": [],
   "source": [
    "# generation \n",
    "from typing import List\n",
    "from src.generate import generate\n",
    "from src.prompts import some_prompt\n",
<<<<<<< HEAD
    "\n",
    "texts: List[str] = generate(some_prompt, num_samples = 100)"
=======
    "import json\n",
    "\n",
    "responces: List[str] = generate(some_prompt, num_samples = 5000)\n",
    "responces = [json.loads(responce) for responce in responces]\n",
    "prompts, targets = zip(*responces)"
>>>>>>> 58f97f5dcc1827bb6b19a56ee6f497e780f47d94
   ]
  },
  {
   "cell_type": "code",
   "execution_count": null,
   "metadata": {},
   "outputs": [],
   "source": [
    "# QA \n",
    "from src.qa import qa\n",
    "from src.prompts import some_qa_prompt\n",
    "\n",
    "SOME_THRESHOLD = 0.5\n",
    "\n",
<<<<<<< HEAD
    "texts: List[str], scores: List[float] = qa(some_qa_prompt)\n",
    "\n",
    "texts = "
=======
    "prompts, scores = qa(some_qa_prompt)\n",
    "prompts = [prompts[i] for i in range(len(prompts)) if scores[i] > SOME_THRESHOLD]"
>>>>>>> 58f97f5dcc1827bb6b19a56ee6f497e780f47d94
   ]
  },
  {
   "cell_type": "code",
   "execution_count": null,
   "metadata": {},
   "outputs": [],
   "source": [
    "# Diversity\n",
<<<<<<< HEAD
    "\n"
   ]
=======
    "import numpy as np\n",
    "from src.diversity import get_embeddings\n",
    "from src.diversity import kmeans_diversity\n",
    "\n",
    "embeddings: np.array = get_embeddings(prompts)\n",
    "\n",
    "diverse_prompts: List[str] = kmeans_diversity(embeddings, k = 500)"
   ]
  },
  {
   "cell_type": "code",
   "execution_count": null,
   "metadata": {},
   "outputs": [],
   "source": [
    "# Get response\n",
    "from src.llms import OpenAI\n",
    "\n",
    "MODEL = \"gpt-3.5-turbo\"\n",
    "\n",
    "llm = OpenAI(MODEL, sytem_prompt = \"You at a chat bot\")\n",
    "responses = llm.parrallel_chat(diverse_prompts)"
   ]
  },
  {
   "cell_type": "code",
   "execution_count": null,
   "metadata": {},
   "outputs": [],
   "source": [
    "# code eval.\n",
    "\n"
   ]
  },
  {
   "cell_type": "code",
   "execution_count": null,
   "metadata": {},
   "outputs": [],
   "source": [
    "# Model based eval\n",
    "\n",
    "from src.llms import OpenAI\n",
    "from src.prompts import eval_prompt\n",
    "\n",
    "MODEL = \"gpt-3.5-turbo\"\n",
    "\n",
    "evaluation_prompts = [\n",
    "    eval_prompt(prompt, response) for prompt, response in zip(diverse_prompts, responses)\n",
    "]\n",
    "\n",
    "llm = OpenAI(MODEL, sytem_prompt = \"You at a chat bot\")\n",
    "scores = llm.parrallel_chat(evaluation_prompts)\n",
    "\n",
    "scores = [float(score) for score in scores]  # TODO, what if the model outputs are not float?"
   ]
  },
  {
   "cell_type": "code",
   "execution_count": null,
   "metadata": {},
   "outputs": [],
   "source": [
    "# Plotting ?"
   ]
>>>>>>> 58f97f5dcc1827bb6b19a56ee6f497e780f47d94
  }
 ],
 "metadata": {
  "language_info": {
   "name": "python"
  }
 },
 "nbformat": 4,
 "nbformat_minor": 2
}
