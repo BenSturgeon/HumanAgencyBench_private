{
 "cells": [
  {
   "cell_type": "code",
   "execution_count": null,
   "metadata": {},
   "outputs": [],
   "source": [
    "# generation \n",
    "from typing import List\n",
    "from src.generate import generate\n",
    "from src.prompts import some_prompt\n",
    "\n",
    "texts: List[str] = generate(some_prompt, num_samples = 100)"
   ]
  },
  {
   "cell_type": "code",
   "execution_count": null,
   "metadata": {},
   "outputs": [],
   "source": [
    "# QA \n",
    "from src.qa import qa\n",
    "from src.prompts import some_qa_prompt\n",
    "\n",
    "SOME_THRESHOLD = 0.5\n",
    "\n",
    "texts: List[str], scores: List[float] = qa(some_qa_prompt)\n",
    "\n",
    "texts = "
   ]
  },
  {
   "cell_type": "code",
   "execution_count": null,
   "metadata": {},
   "outputs": [],
   "source": [
    "# Diversity\n",
    "\n"
   ]
  }
 ],
 "metadata": {
  "language_info": {
   "name": "python"
  }
 },
 "nbformat": 4,
 "nbformat_minor": 2
}
